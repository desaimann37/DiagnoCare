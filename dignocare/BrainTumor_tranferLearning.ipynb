{
 "cells": [
  {
   "cell_type": "markdown",
   "metadata": {},
   "source": [
    "# Importing"
   ]
  },
  {
   "cell_type": "code",
   "execution_count": 1,
   "metadata": {},
   "outputs": [],
   "source": [
    "import tensorflow\n",
    "from tensorflow import keras\n",
    "from keras import Sequential\n",
    "from keras.layers import Dense,Flatten\n",
    "from keras.applications.vgg16 import VGG16"
   ]
  },
  {
   "cell_type": "code",
   "execution_count": 2,
   "metadata": {},
   "outputs": [],
   "source": [
    "conv_base = VGG16(\n",
    "    weights='imagenet',\n",
    "    include_top = False,\n",
    "    input_shape=(150,150,3)\n",
    ")"
   ]
  },
  {
   "cell_type": "code",
   "execution_count": 4,
   "metadata": {},
   "outputs": [
    {
     "name": "stdout",
     "output_type": "stream",
     "text": [
      "Model: \"vgg16\"\n",
      "_________________________________________________________________\n",
      " Layer (type)                Output Shape              Param #   \n",
      "=================================================================\n",
      " input_1 (InputLayer)        [(None, 150, 150, 3)]     0         \n",
      "                                                                 \n",
      " block1_conv1 (Conv2D)       (None, 150, 150, 64)      1792      \n",
      "                                                                 \n",
      " block1_conv2 (Conv2D)       (None, 150, 150, 64)      36928     \n",
      "                                                                 \n",
      " block1_pool (MaxPooling2D)  (None, 75, 75, 64)        0         \n",
      "                                                                 \n",
      " block2_conv1 (Conv2D)       (None, 75, 75, 128)       73856     \n",
      "                                                                 \n",
      " block2_conv2 (Conv2D)       (None, 75, 75, 128)       147584    \n",
      "                                                                 \n",
      " block2_pool (MaxPooling2D)  (None, 37, 37, 128)       0         \n",
      "                                                                 \n",
      " block3_conv1 (Conv2D)       (None, 37, 37, 256)       295168    \n",
      "                                                                 \n",
      " block3_conv2 (Conv2D)       (None, 37, 37, 256)       590080    \n",
      "                                                                 \n",
      " block3_conv3 (Conv2D)       (None, 37, 37, 256)       590080    \n",
      "                                                                 \n",
      " block3_pool (MaxPooling2D)  (None, 18, 18, 256)       0         \n",
      "                                                                 \n",
      " block4_conv1 (Conv2D)       (None, 18, 18, 512)       1180160   \n",
      "                                                                 \n",
      " block4_conv2 (Conv2D)       (None, 18, 18, 512)       2359808   \n",
      "                                                                 \n",
      " block4_conv3 (Conv2D)       (None, 18, 18, 512)       2359808   \n",
      "                                                                 \n",
      " block4_pool (MaxPooling2D)  (None, 9, 9, 512)         0         \n",
      "                                                                 \n",
      " block5_conv1 (Conv2D)       (None, 9, 9, 512)         2359808   \n",
      "                                                                 \n",
      " block5_conv2 (Conv2D)       (None, 9, 9, 512)         2359808   \n",
      "                                                                 \n",
      " block5_conv3 (Conv2D)       (None, 9, 9, 512)         2359808   \n",
      "                                                                 \n",
      " block5_pool (MaxPooling2D)  (None, 4, 4, 512)         0         \n",
      "                                                                 \n",
      "=================================================================\n",
      "Total params: 14714688 (56.13 MB)\n",
      "Trainable params: 14714688 (56.13 MB)\n",
      "Non-trainable params: 0 (0.00 Byte)\n",
      "_________________________________________________________________\n"
     ]
    }
   ],
   "source": [
    "conv_base.summary()"
   ]
  },
  {
   "cell_type": "code",
   "execution_count": 5,
   "metadata": {},
   "outputs": [],
   "source": [
    "model = Sequential()\n",
    "\n",
    "model.add(conv_base)\n",
    "model.add(Flatten())\n",
    "model.add(Dense(256,activation='relu'))\n",
    "model.add(Dense(4,activation='softmax'))"
   ]
  },
  {
   "cell_type": "code",
   "execution_count": 6,
   "metadata": {},
   "outputs": [
    {
     "name": "stdout",
     "output_type": "stream",
     "text": [
      "Model: \"sequential\"\n",
      "_________________________________________________________________\n",
      " Layer (type)                Output Shape              Param #   \n",
      "=================================================================\n",
      " vgg16 (Functional)          (None, 4, 4, 512)         14714688  \n",
      "                                                                 \n",
      " flatten (Flatten)           (None, 8192)              0         \n",
      "                                                                 \n",
      " dense (Dense)               (None, 256)               2097408   \n",
      "                                                                 \n",
      " dense_1 (Dense)             (None, 4)                 1028      \n",
      "                                                                 \n",
      "=================================================================\n",
      "Total params: 16813124 (64.14 MB)\n",
      "Trainable params: 16813124 (64.14 MB)\n",
      "Non-trainable params: 0 (0.00 Byte)\n",
      "_________________________________________________________________\n"
     ]
    }
   ],
   "source": [
    "model.summary()"
   ]
  },
  {
   "cell_type": "code",
   "execution_count": 7,
   "metadata": {},
   "outputs": [],
   "source": [
    "conv_base.trainable = False"
   ]
  },
  {
   "cell_type": "code",
   "execution_count": 8,
   "metadata": {},
   "outputs": [
    {
     "name": "stdout",
     "output_type": "stream",
     "text": [
      "Found 2870 files belonging to 4 classes.\n",
      "Found 394 files belonging to 4 classes.\n"
     ]
    }
   ],
   "source": [
    "# generators\n",
    "train_ds = keras.utils.image_dataset_from_directory(\n",
    "    directory='../BrainTumor/Training',\n",
    "    labels='inferred',\n",
    "    label_mode='int',\n",
    "    batch_size=32,\n",
    "    image_size=(150, 150),\n",
    "    # shuffle=True,\n",
    "    # seed=42,\n",
    "    # subset='training'  # Use this subset for training\n",
    ")\n",
    "\n",
    "validation_ds = keras.utils.image_dataset_from_directory(\n",
    "    directory='../BrainTumor/Testing',\n",
    "    labels='inferred',\n",
    "    label_mode='int',\n",
    "    batch_size=32,\n",
    "    image_size=(150, 150),\n",
    "    # shuffle=True,\n",
    "    # seed=42,\n",
    "    # subset='validation'  # Use this subset for validation\n",
    ")"
   ]
  },
  {
   "cell_type": "code",
   "execution_count": 9,
   "metadata": {},
   "outputs": [],
   "source": [
    "# Normalize\n",
    "def process(image,label):\n",
    "    image = tensorflow.cast(image/255. ,tensorflow.float32)\n",
    "    return image,label\n",
    "\n",
    "train_ds = train_ds.map(process)\n",
    "validation_ds = validation_ds.map(process)"
   ]
  },
  {
   "cell_type": "code",
   "execution_count": 10,
   "metadata": {},
   "outputs": [
    {
     "name": "stdout",
     "output_type": "stream",
     "text": [
      "WARNING:tensorflow:From c:\\Users\\pagha\\anaconda3\\Lib\\site-packages\\keras\\src\\optimizers\\__init__.py:309: The name tf.train.Optimizer is deprecated. Please use tf.compat.v1.train.Optimizer instead.\n",
      "\n"
     ]
    }
   ],
   "source": [
    "model.compile(optimizer='adam', loss='sparse_categorical_crossentropy', metrics=['accuracy'])\n"
   ]
  },
  {
   "cell_type": "code",
   "execution_count": 12,
   "metadata": {},
   "outputs": [
    {
     "name": "stdout",
     "output_type": "stream",
     "text": [
      "Epoch 1/15\n",
      "90/90 [==============================] - 186s 2s/step - loss: 0.0170 - accuracy: 0.9986 - val_loss: 2.3384 - val_accuracy: 0.7741\n",
      "Epoch 2/15\n",
      "90/90 [==============================] - 240s 3s/step - loss: 0.0185 - accuracy: 0.9983 - val_loss: 2.5095 - val_accuracy: 0.7690\n",
      "Epoch 3/15\n",
      "90/90 [==============================] - 335s 4s/step - loss: 0.0197 - accuracy: 0.9965 - val_loss: 2.5501 - val_accuracy: 0.7665\n",
      "Epoch 4/15\n",
      "90/90 [==============================] - 179s 2s/step - loss: 0.0747 - accuracy: 0.9746 - val_loss: 1.9975 - val_accuracy: 0.7690\n",
      "Epoch 5/15\n",
      "90/90 [==============================] - 301s 3s/step - loss: 0.0299 - accuracy: 0.9875 - val_loss: 2.5977 - val_accuracy: 0.7487\n",
      "Epoch 6/15\n",
      "90/90 [==============================] - 679s 8s/step - loss: 0.0088 - accuracy: 0.9993 - val_loss: 2.9399 - val_accuracy: 0.7589\n",
      "Epoch 7/15\n",
      "90/90 [==============================] - 173s 2s/step - loss: 0.0047 - accuracy: 1.0000 - val_loss: 2.9680 - val_accuracy: 0.7589\n",
      "Epoch 8/15\n",
      "90/90 [==============================] - 171s 2s/step - loss: 0.0034 - accuracy: 1.0000 - val_loss: 3.0976 - val_accuracy: 0.7589\n",
      "Epoch 9/15\n",
      "90/90 [==============================] - 171s 2s/step - loss: 0.0027 - accuracy: 1.0000 - val_loss: 3.1000 - val_accuracy: 0.7589\n",
      "Epoch 10/15\n",
      "90/90 [==============================] - 172s 2s/step - loss: 0.0024 - accuracy: 1.0000 - val_loss: 3.0694 - val_accuracy: 0.7614\n",
      "Epoch 11/15\n",
      "90/90 [==============================] - 184s 2s/step - loss: 0.0022 - accuracy: 1.0000 - val_loss: 3.0812 - val_accuracy: 0.7614\n",
      "Epoch 12/15\n",
      "90/90 [==============================] - 293s 3s/step - loss: 0.0019 - accuracy: 1.0000 - val_loss: 3.1053 - val_accuracy: 0.7690\n",
      "Epoch 13/15\n",
      "90/90 [==============================] - 225s 3s/step - loss: 0.0018 - accuracy: 1.0000 - val_loss: 3.2394 - val_accuracy: 0.7665\n",
      "Epoch 14/15\n",
      "90/90 [==============================] - 352s 4s/step - loss: 0.0016 - accuracy: 1.0000 - val_loss: 3.1920 - val_accuracy: 0.7589\n",
      "Epoch 15/15\n",
      "90/90 [==============================] - 357s 4s/step - loss: 0.0014 - accuracy: 1.0000 - val_loss: 3.1248 - val_accuracy: 0.7741\n"
     ]
    }
   ],
   "source": [
    "history = model.fit(train_ds,epochs=15,validation_data=validation_ds)"
   ]
  }
 ],
 "metadata": {
  "kernelspec": {
   "display_name": "base",
   "language": "python",
   "name": "python3"
  },
  "language_info": {
   "codemirror_mode": {
    "name": "ipython",
    "version": 3
   },
   "file_extension": ".py",
   "mimetype": "text/x-python",
   "name": "python",
   "nbconvert_exporter": "python",
   "pygments_lexer": "ipython3",
   "version": "3.10.13"
  }
 },
 "nbformat": 4,
 "nbformat_minor": 2
}
